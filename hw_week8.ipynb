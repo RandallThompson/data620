{
 "cells": [
  {
   "cell_type": "markdown",
   "metadata": {},
   "source": [
    "HW week 8\n",
    "Randy Thompson"
   ]
  },
  {
   "cell_type": "markdown",
   "metadata": {},
   "source": [
    "1. Choose a corpus of interest."
   ]
  },
  {
   "cell_type": "code",
   "execution_count": 1,
   "metadata": {},
   "outputs": [],
   "source": [
    "import nltk\n",
    "import pandas as pd\n",
    "import numpy as np\n",
    "import matplotlib.pyplot as plt\n",
    "\n",
    "alice = nltk.corpus.gutenberg.words('carroll-alice.txt')"
   ]
  },
  {
   "cell_type": "markdown",
   "metadata": {},
   "source": [
    "2. How many total unique words are in the corpus? (Please feel free to define unique words in any interesting, defensible way)."
   ]
  },
  {
   "cell_type": "code",
   "execution_count": 2,
   "metadata": {},
   "outputs": [
    {
     "name": "stdout",
     "output_type": "stream",
     "text": [
      "34110\n",
      "3016\n"
     ]
    }
   ],
   "source": [
    "print(len(alice)) #total words\n",
    "print(len(set(alice))) #unique words"
   ]
  },
  {
   "cell_type": "markdown",
   "metadata": {},
   "source": [
    "3. Taking the most common words, how many unique words represent half of the total words in the corpus?"
   ]
  },
  {
   "cell_type": "code",
   "execution_count": 3,
   "metadata": {},
   "outputs": [
    {
     "data": {
      "text/html": [
       "<div>\n",
       "<style scoped>\n",
       "    .dataframe tbody tr th:only-of-type {\n",
       "        vertical-align: middle;\n",
       "    }\n",
       "\n",
       "    .dataframe tbody tr th {\n",
       "        vertical-align: top;\n",
       "    }\n",
       "\n",
       "    .dataframe thead th {\n",
       "        text-align: right;\n",
       "    }\n",
       "</style>\n",
       "<table border=\"1\" class=\"dataframe\">\n",
       "  <thead>\n",
       "    <tr style=\"text-align: right;\">\n",
       "      <th></th>\n",
       "      <th>word</th>\n",
       "      <th>count</th>\n",
       "      <th>freq</th>\n",
       "    </tr>\n",
       "  </thead>\n",
       "  <tbody>\n",
       "    <tr>\n",
       "      <th>0</th>\n",
       "      <td>,</td>\n",
       "      <td>1993</td>\n",
       "      <td>0.058429</td>\n",
       "    </tr>\n",
       "    <tr>\n",
       "      <th>1</th>\n",
       "      <td>'</td>\n",
       "      <td>1731</td>\n",
       "      <td>0.050748</td>\n",
       "    </tr>\n",
       "    <tr>\n",
       "      <th>2</th>\n",
       "      <td>the</td>\n",
       "      <td>1527</td>\n",
       "      <td>0.044767</td>\n",
       "    </tr>\n",
       "    <tr>\n",
       "      <th>3</th>\n",
       "      <td>and</td>\n",
       "      <td>802</td>\n",
       "      <td>0.023512</td>\n",
       "    </tr>\n",
       "    <tr>\n",
       "      <th>4</th>\n",
       "      <td>.</td>\n",
       "      <td>764</td>\n",
       "      <td>0.022398</td>\n",
       "    </tr>\n",
       "  </tbody>\n",
       "</table>\n",
       "</div>"
      ],
      "text/plain": [
       "  word  count      freq\n",
       "0    ,   1993  0.058429\n",
       "1    '   1731  0.050748\n",
       "2  the   1527  0.044767\n",
       "3  and    802  0.023512\n",
       "4    .    764  0.022398"
      ]
     },
     "execution_count": 3,
     "metadata": {},
     "output_type": "execute_result"
    }
   ],
   "source": [
    "fd = nltk.FreqDist(alice) #freqquency distribution that counts how many times each word is in the text file. \n",
    "\n",
    "fddf = pd.DataFrame(\n",
    "    fd.most_common(100), \n",
    "    columns = ['word', 'count']\n",
    "    )\n",
    "fddf['freq'] = fddf['count']/len(alice) #adding a column of percent of entire text\n",
    "fddf.head(5)"
   ]
  },
  {
   "cell_type": "code",
   "execution_count": 4,
   "metadata": {},
   "outputs": [
    {
     "data": {
      "text/html": [
       "<div>\n",
       "<style scoped>\n",
       "    .dataframe tbody tr th:only-of-type {\n",
       "        vertical-align: middle;\n",
       "    }\n",
       "\n",
       "    .dataframe tbody tr th {\n",
       "        vertical-align: top;\n",
       "    }\n",
       "\n",
       "    .dataframe thead th {\n",
       "        text-align: right;\n",
       "    }\n",
       "</style>\n",
       "<table border=\"1\" class=\"dataframe\">\n",
       "  <thead>\n",
       "    <tr style=\"text-align: right;\">\n",
       "      <th></th>\n",
       "      <th>word</th>\n",
       "      <th>count</th>\n",
       "      <th>freq</th>\n",
       "      <th>sum</th>\n",
       "    </tr>\n",
       "  </thead>\n",
       "  <tbody>\n",
       "    <tr>\n",
       "      <th>0</th>\n",
       "      <td>,</td>\n",
       "      <td>1993</td>\n",
       "      <td>0.058429</td>\n",
       "      <td>0.058429</td>\n",
       "    </tr>\n",
       "    <tr>\n",
       "      <th>1</th>\n",
       "      <td>'</td>\n",
       "      <td>1731</td>\n",
       "      <td>0.050748</td>\n",
       "      <td>0.109176</td>\n",
       "    </tr>\n",
       "    <tr>\n",
       "      <th>2</th>\n",
       "      <td>the</td>\n",
       "      <td>1527</td>\n",
       "      <td>0.044767</td>\n",
       "      <td>0.153943</td>\n",
       "    </tr>\n",
       "    <tr>\n",
       "      <th>3</th>\n",
       "      <td>and</td>\n",
       "      <td>802</td>\n",
       "      <td>0.023512</td>\n",
       "      <td>0.177455</td>\n",
       "    </tr>\n",
       "    <tr>\n",
       "      <th>4</th>\n",
       "      <td>.</td>\n",
       "      <td>764</td>\n",
       "      <td>0.022398</td>\n",
       "      <td>0.199853</td>\n",
       "    </tr>\n",
       "  </tbody>\n",
       "</table>\n",
       "</div>"
      ],
      "text/plain": [
       "  word  count      freq       sum\n",
       "0    ,   1993  0.058429  0.058429\n",
       "1    '   1731  0.050748  0.109176\n",
       "2  the   1527  0.044767  0.153943\n",
       "3  and    802  0.023512  0.177455\n",
       "4    .    764  0.022398  0.199853"
      ]
     },
     "execution_count": 4,
     "metadata": {},
     "output_type": "execute_result"
    }
   ],
   "source": [
    "fddf['sum'] = fddf['freq'].cumsum() #adding a column of the cummualtive sum of the percent of total text\n",
    "fddf.head(5)"
   ]
  },
  {
   "cell_type": "code",
   "execution_count": 5,
   "metadata": {},
   "outputs": [
    {
     "data": {
      "text/html": [
       "<div>\n",
       "<style scoped>\n",
       "    .dataframe tbody tr th:only-of-type {\n",
       "        vertical-align: middle;\n",
       "    }\n",
       "\n",
       "    .dataframe tbody tr th {\n",
       "        vertical-align: top;\n",
       "    }\n",
       "\n",
       "    .dataframe thead th {\n",
       "        text-align: right;\n",
       "    }\n",
       "</style>\n",
       "<table border=\"1\" class=\"dataframe\">\n",
       "  <thead>\n",
       "    <tr style=\"text-align: right;\">\n",
       "      <th></th>\n",
       "      <th>word</th>\n",
       "      <th>count</th>\n",
       "      <th>freq</th>\n",
       "      <th>sum</th>\n",
       "    </tr>\n",
       "  </thead>\n",
       "  <tbody>\n",
       "    <tr>\n",
       "      <th>42</th>\n",
       "      <td>so</td>\n",
       "      <td>124</td>\n",
       "      <td>0.003635</td>\n",
       "      <td>0.502433</td>\n",
       "    </tr>\n",
       "  </tbody>\n",
       "</table>\n",
       "</div>"
      ],
      "text/plain": [
       "   word  count      freq       sum\n",
       "42   so    124  0.003635  0.502433"
      ]
     },
     "execution_count": 5,
     "metadata": {},
     "output_type": "execute_result"
    }
   ],
   "source": [
    "fddf[fddf['sum'] > 0.5].head(1) #finding the row at cummulative sum of 50%"
   ]
  },
  {
   "cell_type": "markdown",
   "metadata": {},
   "source": [
    "4. Identify the 200 highest frequency words in this corpus."
   ]
  },
  {
   "cell_type": "code",
   "execution_count": 6,
   "metadata": {},
   "outputs": [
    {
     "data": {
      "text/plain": [
       "[(',', 1993),\n",
       " (\"'\", 1731),\n",
       " ('the', 1527),\n",
       " ('and', 802),\n",
       " ('.', 764),\n",
       " ('to', 725),\n",
       " ('a', 615),\n",
       " ('I', 543),\n",
       " ('it', 527),\n",
       " ('she', 509),\n",
       " ('of', 500),\n",
       " ('said', 456),\n",
       " (\",'\", 397),\n",
       " ('Alice', 396),\n",
       " ('in', 357),\n",
       " ('was', 352),\n",
       " ('you', 345),\n",
       " (\"!'\", 278),\n",
       " ('that', 275),\n",
       " ('as', 246),\n",
       " ('her', 243),\n",
       " (':', 216),\n",
       " ('t', 216),\n",
       " ('at', 202),\n",
       " ('s', 195),\n",
       " ('on', 189),\n",
       " (\".'\", 187),\n",
       " (';', 186),\n",
       " ('had', 177),\n",
       " ('with', 175),\n",
       " ('all', 173),\n",
       " ('!', 155),\n",
       " (\"?'\", 154),\n",
       " ('be', 145),\n",
       " ('-', 141),\n",
       " ('for', 140),\n",
       " ('--', 140),\n",
       " ('but', 133),\n",
       " ('not', 129),\n",
       " ('they', 129),\n",
       " ('very', 126),\n",
       " ('little', 125),\n",
       " ('so', 124),\n",
       " ('out', 116),\n",
       " ('this', 113),\n",
       " ('The', 108),\n",
       " ('he', 101),\n",
       " ('down', 99),\n",
       " ('up', 98),\n",
       " ('is', 97),\n",
       " ('about', 94),\n",
       " ('one', 94),\n",
       " ('his', 94),\n",
       " ('what', 93),\n",
       " ('them', 88),\n",
       " ('know', 87),\n",
       " ('were', 85),\n",
       " ('like', 84),\n",
       " ('went', 83),\n",
       " ('again', 83),\n",
       " ('herself', 83),\n",
       " ('if', 78),\n",
       " ('or', 76),\n",
       " ('thought', 74),\n",
       " ('Queen', 74),\n",
       " ('could', 73),\n",
       " ('have', 73),\n",
       " ('then', 72),\n",
       " ('would', 70),\n",
       " ('no', 69),\n",
       " ('when', 69),\n",
       " ('do', 68),\n",
       " ('time', 68),\n",
       " ('into', 67),\n",
       " ('And', 67),\n",
       " ('see', 66),\n",
       " ('there', 65),\n",
       " ('It', 64),\n",
       " ('off', 62),\n",
       " ('me', 61),\n",
       " ('King', 61),\n",
       " ('did', 60),\n",
       " ('*', 60),\n",
       " ('Turtle', 59),\n",
       " ('began', 58),\n",
       " ('m', 58),\n",
       " ('can', 57),\n",
       " ('way', 56),\n",
       " ('ll', 56),\n",
       " ('its', 56),\n",
       " ('Mock', 56),\n",
       " ('by', 55),\n",
       " ('my', 55),\n",
       " ('Hatter', 55),\n",
       " ('Gryphon', 55),\n",
       " ('quite', 53),\n",
       " ('your', 53),\n",
       " ('an', 52),\n",
       " ('much', 51),\n",
       " ('say', 51),\n",
       " (\"--'\", 51),\n",
       " ('don', 51),\n",
       " ('You', 51),\n",
       " ('(', 50),\n",
       " ('think', 50),\n",
       " ('their', 50),\n",
       " ('head', 50),\n",
       " ('thing', 49),\n",
       " ('some', 48),\n",
       " ('\"', 48),\n",
       " ('who', 48),\n",
       " ('now', 48),\n",
       " ('go', 47),\n",
       " ('only', 47),\n",
       " ('more', 47),\n",
       " ('voice', 47),\n",
       " ('Rabbit', 45),\n",
       " ('looked', 45),\n",
       " ('just', 45),\n",
       " ('got', 45),\n",
       " ('get', 44),\n",
       " ('are', 44),\n",
       " ('first', 44),\n",
       " ('ve', 43),\n",
       " ('never', 42),\n",
       " ('What', 42),\n",
       " ('Duchess', 42),\n",
       " ('must', 41),\n",
       " ('which', 41),\n",
       " ('round', 41),\n",
       " ('well', 40),\n",
       " ('over', 40),\n",
       " ('how', 40),\n",
       " ('such', 40),\n",
       " ('came', 40),\n",
       " ('other', 40),\n",
       " ('tone', 40),\n",
       " ('Dormouse', 40),\n",
       " ('here', 39),\n",
       " ('She', 39),\n",
       " ('great', 39),\n",
       " ('any', 39),\n",
       " ('him', 39),\n",
       " ('re', 38),\n",
       " ('been', 38),\n",
       " ('back', 38),\n",
       " ('after', 37),\n",
       " ('But', 37),\n",
       " ('before', 36),\n",
       " ('Oh', 35),\n",
       " ('?', 35),\n",
       " ('from', 34),\n",
       " ('March', 34),\n",
       " ('There', 33),\n",
       " ('large', 33),\n",
       " ('two', 32),\n",
       " ('looking', 32),\n",
       " ('last', 32),\n",
       " ('once', 31),\n",
       " ('moment', 31),\n",
       " ('put', 31),\n",
       " ('things', 31),\n",
       " ('long', 31),\n",
       " ('Hare', 31),\n",
       " ('nothing', 30),\n",
       " ('made', 30),\n",
       " ('found', 30),\n",
       " ('right', 30),\n",
       " ('door', 30),\n",
       " ('heard', 30),\n",
       " ('Mouse', 30),\n",
       " ('day', 29),\n",
       " ('eyes', 29),\n",
       " ('replied', 29),\n",
       " ('dear', 28),\n",
       " ('look', 28),\n",
       " ('next', 28),\n",
       " ('might', 28),\n",
       " ('three', 28),\n",
       " ('So', 27),\n",
       " ('seemed', 27),\n",
       " ('going', 27),\n",
       " ('make', 27),\n",
       " ('How', 27),\n",
       " ('Why', 27),\n",
       " ('should', 27),\n",
       " ('tell', 27),\n",
       " ('That', 27),\n",
       " ('d', 27),\n",
       " ('Caterpillar', 27),\n",
       " ('without', 26),\n",
       " ('upon', 26),\n",
       " ('good', 26),\n",
       " ('won', 26),\n",
       " ('course', 26),\n",
       " ('Cat', 26),\n",
       " ('too', 25),\n",
       " ('come', 25),\n",
       " ('rather', 25),\n",
       " ('away', 25)]"
      ]
     },
     "execution_count": 6,
     "metadata": {},
     "output_type": "execute_result"
    }
   ],
   "source": [
    "fd.most_common(200)"
   ]
  },
  {
   "cell_type": "markdown",
   "metadata": {},
   "source": [
    "5. Create a graph that shows the relative frequency of these 200 words."
   ]
  },
  {
   "cell_type": "code",
   "execution_count": 7,
   "metadata": {},
   "outputs": [
    {
     "data": {
      "image/png": "[encoded data removed]",
      "text/plain": [
       "<Figure size 432x288 with 1 Axes>"
      ]
     },
     "metadata": {
      "needs_background": "light"
     },
     "output_type": "display_data"
    },
    {
     "data": {
      "text/plain": [
       "<matplotlib.axes._subplots.AxesSubplot at 0x1ca2d1deac8>"
      ]
     },
     "execution_count": 7,
     "metadata": {},
     "output_type": "execute_result"
    }
   ],
   "source": [
    "fd.plot(200, cumulative = True)"
   ]
  },
  {
   "cell_type": "markdown",
   "metadata": {},
   "source": [
    "6. Does the observed relative frequency of these words follow Zipf’s law? Explain."
   ]
  },
  {
   "cell_type": "code",
   "execution_count": 8,
   "metadata": {},
   "outputs": [
    {
     "data": {
      "text/plain": [
       "<matplotlib.axes._subplots.AxesSubplot at 0x1ca2d6b9888>"
      ]
     },
     "execution_count": 8,
     "metadata": {},
     "output_type": "execute_result"
    },
    {
     "data": {
      "image/png": "[encoded data removed]",
      "text/plain": [
       "<Figure size 432x288 with 1 Axes>"
      ]
     },
     "metadata": {
      "needs_background": "light"
     },
     "output_type": "display_data"
    }
   ],
   "source": [
    "fddf['count'].plot()"
   ]
  },
  {
   "cell_type": "code",
   "execution_count": 9,
   "metadata": {},
   "outputs": [
    {
     "name": "stdout",
     "output_type": "stream",
     "text": [
      "996.5\n",
      "498.25\n",
      "249.125\n",
      "124.5625\n",
      "62.28125\n",
      "31.140625\n",
      "15.5703125\n",
      "7.78515625\n",
      "3.892578125\n",
      "1.9462890625\n",
      "0.97314453125\n",
      "0.486572265625\n",
      "0.2432861328125\n",
      "0.12164306640625\n",
      "0.060821533203125\n",
      "0.0304107666015625\n",
      "0.01520538330078125\n",
      "0.007602691650390625\n",
      "0.0038013458251953125\n"
     ]
    }
   ],
   "source": [
    "d = 1993\n",
    "for i in range(1,20):\n",
    "    d = d/2\n",
    "    print(d)\n",
    "    \n",
    "#This represents Zipf's law that the second most used word is used half as much of the first used word and so on. With the\n",
    "#highest used word at 1993, I divided that by 2 to compare it to the actual count of words. "
   ]
  },
  {
   "cell_type": "code",
   "execution_count": 10,
   "metadata": {},
   "outputs": [
    {
     "data": {
      "text/plain": [
       "0     1993\n",
       "1     1731\n",
       "2     1527\n",
       "3      802\n",
       "4      764\n",
       "5      725\n",
       "6      615\n",
       "7      543\n",
       "8      527\n",
       "9      509\n",
       "10     500\n",
       "11     456\n",
       "12     397\n",
       "13     396\n",
       "14     357\n",
       "15     352\n",
       "16     345\n",
       "17     278\n",
       "18     275\n",
       "19     246\n",
       "Name: count, dtype: int64"
      ]
     },
     "execution_count": 10,
     "metadata": {},
     "output_type": "execute_result"
    }
   ],
   "source": [
    "fddf['count'].head(20)"
   ]
  },
  {
   "cell_type": "markdown",
   "metadata": {},
   "source": [
    "In the literal sense of Zipf's law, it doesn't hold true but looking at the plot, it maintains a similar shape to an exponentially decreasing plot. \n",
    "\n",
    "<br>\n",
    "<br>\n",
    "\n",
    "7. In what ways do you think the frequency of the words in this corpus differ from “all words in all corpora.”"
   ]
  },
  {
   "cell_type": "markdown",
   "metadata": {},
   "source": [
    "The long tail is there. If we plot all the words in the text it would look similar to how a plot of 'all words in all corpora' would. It's possible that the author has a wider vocabularly but that the population at large but that would make the tail even longer than 'all words in all corpora'. "
   ]
  }
 ],
 "metadata": {
  "kernelspec": {
   "display_name": "Python 3",
   "language": "python",
   "name": "python3"
  },
  "language_info": {
   "codemirror_mode": {
    "name": "ipython",
    "version": 3
   },
   "file_extension": ".py",
   "mimetype": "text/x-python",
   "name": "python",
   "nbconvert_exporter": "python",
   "pygments_lexer": "ipython3",
   "version": "3.7.6"
  }
 },
 "nbformat": 4,
 "nbformat_minor": 4
}
